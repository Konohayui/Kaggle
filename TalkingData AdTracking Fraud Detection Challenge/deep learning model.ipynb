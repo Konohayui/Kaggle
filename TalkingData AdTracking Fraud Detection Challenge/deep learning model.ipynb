{
  "cells": [
    {
      "metadata": {
        "collapsed": true,
        "_cell_guid": "b1076dfc-b9ad-4769-8c92-a6c4dae69d19",
        "_uuid": "8f2839f25d086af736a60e9eeb907d3b93b6e0e5",
        "trusted": false
      },
      "cell_type": "code",
      "source": "import time, numpy as np, pandas as pd, gc\nstart_time = time.time()\nnp.random.seed(32)\nfrom sklearn.model_selection import train_test_split\n\ndtypes = {\"ip\": \"uint32\",\n         \"app\": \"uint16\",\n         \"device\": \"uint16\",\n         \"os\": \"uint16\",\n         \"channel\": \"uint16\",\n         \"is_attributed\": \"uint8\",\n         \"click_id\": \"uint32\"}",
      "execution_count": null,
      "outputs": []
    },
    {
      "metadata": {
        "_cell_guid": "79c7e3d0-c299-4dcb-8224-4455121ee9b0",
        "_uuid": "d629ff2d2480ee46fbb7e2d37f6b5fab8052498a",
        "trusted": false,
        "collapsed": true
      },
      "cell_type": "code",
      "source": "path = \"../input/talkingdata-adtracking-fraud-detection/\"\ntrain = pd.read_csv(path + \"train.csv\", low_memory = True, skiprows = range(1, 68000000), \n                    engine = \"c\", dtype = dtypes,\n#                     nrows = 90000000,\n                    usecols = [\"ip\", \"app\", \"device\", \"os\", \"channel\", \"click_time\", \"is_attributed\"])\n\ntest = pd.read_csv(path + \"test.csv\", low_memory = True, engine = \"c\", dtype = dtypes,\n                   usecols = [\"ip\", \"app\", \"device\", \"os\", \"channel\", \"click_time\", \"click_id\"])\nprint(\"Load data [{}] completed!\".format(time.time() - start_time))",
      "execution_count": null,
      "outputs": []
    },
    {
      "metadata": {
        "_cell_guid": "b469f1ce-1aee-4b9f-ae86-1993a34b954e",
        "_uuid": "fb7bc91f456b46e6e0df2ddff05da66015aa889f",
        "trusted": false,
        "collapsed": true
      },
      "cell_type": "code",
      "source": "def process_time(data):\n    data[\"hour\"] = pd.to_datetime(data.click_time).dt.hour.astype(\"uint8\")\n    data[\"day\"] = pd.to_datetime(data.click_time).dt.day.astype(\"uint8\")\n    data.drop([\"click_time\"], axis = 1, inplace = True)\n    return data\n\nkeras_submission = pd.DataFrame()\nkeras_submission[\"click_id\"] = test[[\"click_id\"]].astype(\"uint32\")\ntest.drop([\"click_id\"], axis = 1, inplace = True)\nX_test = test\n\ntrain = process_time(train)\nX_train = train[train[\"day\"] == 8].loc[train[\"hour\"].isin(set(range(4, 16)))]\nY_train = X_train[\"is_attributed\"]\nX_valid = train[train[\"day\"] == 9].loc[train[\"hour\"] >= 4]\nY_valid = X_valid[\"is_attributed\"]\nX_test = process_time(X_test)\n\nprint(\"Train set shape {}\".format(X_train.shape))\nprint(\"Valid set shape {}\".format(X_valid.shape))\nprint(\"Test set shape {}\".format(X_test.shape))\nprint(\"Split train set [{}] completed!\".format(time.time() - start_time))\ndel train, test; gc.collect()",
      "execution_count": null,
      "outputs": []
    },
    {
      "metadata": {
        "collapsed": true,
        "_cell_guid": "0b6285c6-7961-4e31-84ad-38383866792b",
        "_uuid": "6747f107e7f7408fefc81eb9ebe5182e7a502374",
        "trusted": false
      },
      "cell_type": "code",
      "source": "from contextlib import contextmanager\n@contextmanager\n\ndef timer(name):\n    t0 = time.time()\n    yield\n    print(f\"[{name}] done in {time.time() - t0:.0f}s\")",
      "execution_count": null,
      "outputs": []
    },
    {
      "metadata": {
        "_cell_guid": "aa949928-f578-4c5c-8548-eb9c0ddd8818",
        "_uuid": "e2b765dd2407028b04fa822877c06bd51aac4945",
        "trusted": false,
        "collapsed": true
      },
      "cell_type": "code",
      "source": "most_freq_hours_in_test_data = [4, 5, 9, 10, 13, 14]\nleast_freq_hours_in_test_data = [6, 11, 15]\n\ndef add_count_feat(data, cols):\n    arr_slice = data[cols].values\n    unq, unqtags, counts = np.unique(np.ravel_multi_index(arr_slice.T, arr_slice.max(0) + 1),\n                                     return_inverse=True, return_counts=True)\n    data[\"_\".join(cols) + \"_count\"] = counts[unqtags]\n    return data\n    \ndef add_unique_feat(data, cols):\n    feat = data[cols].groupby(by = cols[0:len(cols) - 1])[cols[len(cols) - 1]].nunique()\n    feat = feat.reset_index().rename(index = str, columns = {cols[len(cols) - 1]: \"_\".join(cols) + \"_unique\"})\n    data = data.merge(feat, on = cols[0:len(cols) - 1], how = \"left\")\n    return data\n\ndef feature_eng(data):    \n    data[\"in_test_hour\"] = (3 - 2*data[\"hour\"].isin(most_freq_hours_in_test_data) \n                            - 1*data[\"hour\"].isin(least_freq_hours_in_test_data)).astype(\"uint8\")\n    \n    data = add_count_feat(data, [\"ip\", \"in_test_hour\"])\n    data[\"ip_in_test_hour_count\"] = data[\"ip_in_test_hour_count\"].astype(\"uint32\")\n\n    data = add_count_feat(data, [\"ip\", \"hour\"])\n    data[\"ip_hour_count\"] = data[\"ip_hour_count\"].astype(\"uint32\")\n    \n    data = add_count_feat(data, [\"ip\", \"app\", \"os\", \"hour\"])\n    data[\"ip_app_os_hour_count\"] = data[\"ip_app_os_hour_count\"].astype(\"uint16\")\n    \n    data = add_count_feat(data, [\"app\", \"channel\"])\n    data[\"app_channel_count\"] = data[\"app_channel_count\"].astype(\"uint32\")\n    \n    data = add_count_feat(data, [\"ip\", \"channel\"])\n    data[\"ip_channel_count\"] = data[\"ip_channel_count\"].astype(\"uint32\")\n    \n    data = add_unique_feat(data, [\"ip\", \"channel\"])\n    data[\"ip_channel_unique\"] = data[\"ip_channel_unique\"].astype(\"uint32\")\n    \n    data.drop([\"ip\", \"day\", \"in_test_hour\"], axis = 1, inplace = True)\n    gc.collect()\n    \n    return data\n\nwith timer(\"Feature engineering\"):\n    X_train = feature_eng(X_train)\n    print(\"Train data completed!\")\n    X_valid = feature_eng(X_valid)\n    print(\"Valid data completed!\")\n    X_test = feature_eng(X_test)\n    print(\"Test data completed!\")",
      "execution_count": null,
      "outputs": []
    },
    {
      "metadata": {
        "collapsed": true,
        "_cell_guid": "689decaf-a2cd-414c-8990-25ea26f3bf26",
        "_uuid": "95cae4bcf52db344ae332120fd99239e54290922",
        "trusted": false
      },
      "cell_type": "code",
      "source": "path = \"../input/next-click-data-set/\"\n\nwith timer(\"Add clicks\"):\n    train_next_clicks = pd.read_csv(path + \"train_next_clicks.csv\", low_memory = True, engine = \"c\",\n                                    dtype = {\"next_clicks\": \"uint32\"})\n    X_train[\"next_clicks\"] = train_next_clicks.values\n    del train_next_clicks; gc.collect()\n    \n    valid_next_clicks = pd.read_csv(path + \"valid_next_clicks.csv\", low_memory = True, engine = \"c\",\n                                    dtype = {\"next_clicks\": \"uint32\"})\n    X_valid[\"next_clicks\"] = valid_next_clicks.values\n    del valid_next_clicks; gc.collect()\n    \n    test_next_clicks = pd.read_csv(path + \"test_next_clicks.csv\", low_memory = True, engine = \"c\",\n                                   dtype = {\"next_clicks\": \"uint32\"})\n    X_test[\"next_clicks\"] = test_next_clicks.values\n    del test_next_clicks; gc.collect()",
      "execution_count": null,
      "outputs": []
    },
    {
      "metadata": {
        "collapsed": true,
        "_cell_guid": "58b7424f-af5d-4d25-bea9-141f496e1ad5",
        "_uuid": "e470afea821f1b9e23705adb0c9bb86af1596102",
        "trusted": false
      },
      "cell_type": "code",
      "source": "max_app = np.max([X_train[\"app\"].max(), X_valid[\"app\"].max(), X_test[\"app\"].max()]) + 1\nmax_dev = np.max([X_train[\"device\"].max(), X_valid[\"device\"].max(), X_test[\"app\"].max()]) + 1\nmax_os = np.max([X_train[\"os\"].max(), X_valid[\"os\"].max(), X_test[\"os\"].max()]) + 1\nmax_ch = np.max([X_train[\"channel\"].max(), X_valid[\"channel\"].max(), X_test[\"channel\"].max()]) + 1\nmax_h = np.max([X_train[\"hour\"].max(), X_valid[\"hour\"].max(), X_test[\"hour\"].max()]) + 1\n\nmax_c1 = np.max([X_train[\"ip_in_test_hour_count\"].max(), \n                 X_valid[\"ip_in_test_hour_count\"].max(), \n                 X_test[\"ip_in_test_hour_count\"].max()]) + 1\nmax_c2 = np.max([X_train[\"ip_hour_count\"].max(), \n                 X_valid[\"ip_hour_count\"].max(), \n                 X_test[\"ip_hour_count\"].max()]) + 1\nmax_c3 = np.max([X_train[\"ip_app_os_hour_count\"].max(), \n                 X_valid[\"ip_app_os_hour_count\"].max(), \n                 X_test[\"ip_app_os_hour_count\"].max()]) + 1\nmax_c4 = np.max([X_train[\"app_channel_count\"].max(), \n                 X_valid[\"app_channel_count\"].max(), \n                 X_test[\"app_channel_count\"].max()]) + 1\nmax_c5 = np.max([X_train[\"ip_channel_count\"].max(), \n                 X_valid[\"ip_channel_count\"].max(), \n                 X_test[\"ip_channel_count\"].max()]) + 1\nmax_c6 = np.max([X_train[\"ip_channel_unique\"].max(), \n                 X_valid[\"ip_channel_unique\"].max(), \n                 X_test[\"ip_channel_unique\"].max()]) + 1\nmax_c7 = np.max([X_train[\"next_clicks\"].max(), \n                 X_valid[\"next_clicks\"].max(), \n                 X_test[\"next_clicks\"].max()]) + 1",
      "execution_count": null,
      "outputs": []
    },
    {
      "metadata": {
        "collapsed": true,
        "_cell_guid": "c6b24e3b-d8cf-474b-bf90-2c94d9af2cab",
        "_uuid": "d161d4e1e0d05aafc0c75b0564a42ce6d6cc9ac1",
        "trusted": false
      },
      "cell_type": "code",
      "source": "def get_keras_data(data):\n    df = {\"app\": np.array(data.app),\n          \"device\": np.array(data.device),\n          \"os\": np.array(data.os),\n          \"channel\": np.array(data.channel),\n          \"hour\": np.array(data.hour),\n#           \"ip_in_test_hour_count\": np.array(data.ip_in_test_hour_count),\n          \"ip_hour_count\": np.array(data.ip_hour_count),\n          \"ip_app_os_hour_count\": np.array(data.ip_app_os_hour_count),\n          \"app_channel_count\": np.array(data.app_channel_count),\n#           \"ip_channel_count\": np.array(data.ip_channel_count),\n          \"ip_channel_unique\": np.array(data.ip_channel_unique),\n          \"next_clicks\": np.array(data.next_clicks)}\n    return df\n\nX_train = get_keras_data(X_train)\nX_valid = get_keras_data(X_valid)\nX_test = get_keras_data(X_test)\nprint(\"Get keras data [{}] completed!\".format(time.time() - start_time))",
      "execution_count": null,
      "outputs": []
    },
    {
      "metadata": {
        "collapsed": true,
        "_cell_guid": "ae71b425-b3bb-413c-a90a-715eadfffab8",
        "scrolled": false,
        "_uuid": "c3b0a563ae60f6e71b88aff77617cc61b523fe4e",
        "trusted": false
      },
      "cell_type": "code",
      "source": "from keras.layers import Input, Embedding, Dropout, Dense, concatenate, Conv1D, GRU\nfrom keras.layers import SpatialDropout1D, BatchNormalization, Flatten, LSTM, Bidirectional\nfrom keras.layers.advanced_activations import PReLU\nfrom keras.optimizers import Adam\nfrom keras.models import Model, load_model\n\ndef build_model(emb_n = 50, dr = 0.3, dense_n = 1024, lr_i = 1e-3, lr_f = 1e-3, batch_size = 2**13):\n    in_app = Input(shape = [1], name = \"app\")\n    emb_app = Embedding(max_app, emb_n)(in_app)\n    in_dev = Input(shape = [1], name = \"device\")\n    emb_dev = Embedding(max_dev, emb_n)(in_dev)\n    in_ch = Input(shape = [1], name = \"channel\")\n    emb_ch = Embedding(max_ch, emb_n)(in_ch)\n    in_os = Input(shape = [1], name = \"os\")\n    emb_os = Embedding(max_os, emb_n)(in_os)\n    in_h = Input(shape = [1], name = \"hour\")\n    emb_h = Embedding(max_h, emb_n)(in_h) \n\n#     in_c1 = Input(shape = [1], name = \"ip_in_test_hour_count\")\n#     emb_c1 = Embedding(max_c1, emb_n)(in_c1) \n    in_c2 = Input(shape = [1], name = \"ip_hour_count\")\n    emb_c2 = Embedding(max_c2, emb_n)(in_c2) \n    in_c3 = Input(shape = [1], name = \"ip_app_os_hour_count\")\n    emb_c3 = Embedding(max_c3, emb_n)(in_c3) \n    in_c4 = Input(shape = [1], name = \"app_channel_count\")\n    emb_c4 = Embedding(max_c4, emb_n)(in_c4) \n#     in_c5 = Input(shape = [1], name = \"ip_channel_count\")\n#     emb_c5 = Embedding(max_c5, emb_n)(in_c5) \n    in_c6 = Input(shape = [1], name = \"ip_channel_unique\")\n    emb_c6 = Embedding(max_c6, emb_n)(in_c6) \n    in_c7 = Input(shape = [1], name = \"next_clicks\")\n    emb_c7 = Embedding(max_c7, emb_n)(in_c7) \n    \n    main = concatenate([emb_app, emb_dev, emb_ch, emb_os, emb_h, \n#                         emb_c1, \n                        emb_c2, emb_c3, emb_c4, \n#                         emb_c5, \n                        emb_c6, emb_c7])\n    main = SpatialDropout1D(dr)(main)\n    main = Bidirectional(LSTM(32, dropout = 0.2, recurrent_dropout = 0.2))(main)\n    main = Dense(dense_n, activation = \"relu\")(main)\n    main = Dropout(dr)(main)\n    main = Dense(32, activation = \"relu\")(main)\n    main = Dropout(dr)(main)\n    outp = Dense(1, activation = \"sigmoid\")(main)\n    model = Model(inputs = [in_app, in_dev, in_ch, in_os, in_h,\n#                             in_c1, \n                            in_c2, in_c3, in_c4, \n#                             in_c5, \n                            in_c6, in_c7],\n                 outputs = outp)\n    exp_decay = lambda init, fin, steps: (init/fin)**(1/(steps-1)) - 1\n    steps = int(len(list(X_train)[0]) / batch_size) * 2\n    lr_init, lr_fin = lr_i, lr_f\n    lr_decay = exp_decay(lr_init, lr_fin, steps)\n    model.compile(loss = \"binary_crossentropy\", optimizer = Adam(lr = lr_i, decay = lr_decay), \n                  metrics = [\"accuracy\"])\n    return model",
      "execution_count": null,
      "outputs": []
    },
    {
      "metadata": {
        "collapsed": true,
        "_cell_guid": "214dc67d-71a6-4839-adab-fb8b4d74d91b",
        "_uuid": "b5603139e31dfeedd08f5b8c640fee005e04dd13",
        "trusted": false
      },
      "cell_type": "code",
      "source": "from sklearn.metrics import roc_auc_score\nfrom keras.callbacks import EarlyStopping, ModelCheckpoint\n\nfile_path = \"best_model.hdf5\"\ncheck_point = ModelCheckpoint(file_path, monitor = \"val_loss\", verbose = 1,\n                              save_best_only = True, mode = \"min\")\nbatch_size = 2**16\nprint(\"Trainning model [{}]\".format(time.time() - start_time))\nmodel = build_model(emb_n = 25, dr = 0.2, dense_n = 64, lr_i = 1e-3, lr_f = 1e-4, batch_size = batch_size)\nmodel.fit(X_train, Y_train, batch_size = batch_size, epochs = 2, verbose = 10, \n          validation_data = (X_valid, Y_valid), class_weight = {0:0.01, 1:0.99},)\n# model = load_model(file_path)\noof = model.predict(X_valid, batch_size = batch_size, verbose = 10)[:, 0]\nprint(\"cv is {}\".format(roc_auc_score(Y_valid, oof)))\ndel oof; gc.collect()\nkeras_prediction = model.predict(X_test, batch_size = batch_size, verbose = 10)[:, 0]\nprint(\"Train and predict [{}] completed!\".format((time.time() - start_time)/3600))",
      "execution_count": null,
      "outputs": []
    },
    {
      "metadata": {
        "collapsed": true,
        "_cell_guid": "3b4a8a27-d9dd-4fbe-91d1-b1534d8383ca",
        "_uuid": "2a61c69c3ff09919010cdf9ebb929787f89e8116",
        "trusted": false
      },
      "cell_type": "code",
      "source": "keras_submission[\"is_attributed\"] = keras_prediction\nkeras_submission.to_csv(\"keras_submission.csv\", index = False)\nprint(\"Completed writing keras submission file [{}]\".format(time.time() - start_time))",
      "execution_count": null,
      "outputs": []
    },
    {
      "metadata": {
        "collapsed": true,
        "_cell_guid": "5600a5a7-bafb-47ef-aeca-350e0b92b302",
        "_uuid": "4dd8e65d6f7a5ddf583dd0563142ebbd95fd0c2d",
        "trusted": false
      },
      "cell_type": "code",
      "source": "keras_submission.head()",
      "execution_count": null,
      "outputs": []
    },
    {
      "metadata": {
        "collapsed": true,
        "_cell_guid": "e665fa33-46ef-4b95-ac59-e10ad1d5c8ba",
        "_uuid": "834f51a917616bdcc26a729b6360035075349e70",
        "trusted": false
      },
      "cell_type": "code",
      "source": "",
      "execution_count": null,
      "outputs": []
    }
  ],
  "metadata": {
    "kernelspec": {
      "display_name": "Python 3",
      "language": "python",
      "name": "python3"
    },
    "language_info": {
      "mimetype": "text/x-python",
      "file_extension": ".py",
      "pygments_lexer": "ipython3",
      "codemirror_mode": {
        "name": "ipython",
        "version": 3
      },
      "name": "python",
      "version": "3.6.5",
      "nbconvert_exporter": "python"
    }
  },
  "nbformat": 4,
  "nbformat_minor": 1
}