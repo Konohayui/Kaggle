{
  "cells": [
    {
      "metadata": {
        "collapsed": true,
        "_cell_guid": "b1076dfc-b9ad-4769-8c92-a6c4dae69d19",
        "_uuid": "8f2839f25d086af736a60e9eeb907d3b93b6e0e5",
        "trusted": false
      },
      "cell_type": "code",
      "source": "import time, numpy as np, pandas as pd, gc\nfrom scipy.sparse import csr_matrix, hstack\n\nstart_time = time.time()\nnp.random.seed(32)\nfrom sklearn.model_selection import train_test_split\n\ndtypes = {\"ip\": \"uint32\",\n         \"app\": \"uint16\",\n         \"device\": \"uint16\",\n         \"os\": \"uint16\",\n         \"channel\": \"uint16\",\n         \"is_attributed\": \"uint8\",\n         \"click_id\": \"uint32\"}",
      "execution_count": null,
      "outputs": []
    },
    {
      "metadata": {
        "_cell_guid": "89c200ae-f91e-4d1d-92c0-05208284170c",
        "scrolled": false,
        "_uuid": "b766290f87a7293a298bdac0bd63001ac70ac9f6",
        "trusted": false,
        "collapsed": true
      },
      "cell_type": "code",
      "source": "path = \"../input/talkingdata-adtracking-fraud-detection/\"\ntrain = pd.read_csv(path + \"train.csv\", low_memory = True, skiprows = range(1, 68000000), \n                    engine = \"c\", dtype = dtypes,\n#                     nrows = 90000000,\n                    usecols = [\"ip\", \"app\", \"device\", \"os\", \"channel\", \"click_time\", \"is_attributed\"])\nprint(\"Load train data [{}] completed!\".format(time.time() - start_time))",
      "execution_count": null,
      "outputs": []
    },
    {
      "metadata": {
        "collapsed": true,
        "_cell_guid": "79c830be-667f-4781-8d80-2bb6cf32cac9",
        "_uuid": "e6b41c370a5ff80ff2e8f0c37af70da726bd6fb1",
        "trusted": false
      },
      "cell_type": "code",
      "source": "from contextlib import contextmanager\n@contextmanager\n\ndef timer(name):\n    t0 = time.time()\n    yield\n    print(f\"[{name}] done in {time.time() - t0:.0f}s\")",
      "execution_count": null,
      "outputs": []
    },
    {
      "metadata": {
        "_cell_guid": "36e608d1-c988-41c2-be25-06e59d6ef7e4",
        "_uuid": "158db7c3acf563b9816df6fc8a87a3f0e0059502",
        "trusted": false,
        "collapsed": true
      },
      "cell_type": "code",
      "source": "def process_time(data):\n    dt = pd.to_datetime(data[\"click_time\"]).dt\n    data[\"day\"] = dt.day.astype(\"uint8\")\n    data[\"hour\"] = dt.hour.astype(\"uint8\")\n    del dt; gc.collect()\n    return data\n\nwith timer(\"Split training set\"):\n    train = process_time(train)\n    X_train = train[train[\"day\"] == 8].loc[train[\"hour\"] >= 4]\n    Y_train = X_train[\"is_attributed\"]\n    X_train.drop([\"is_attributed\"], axis = 1, inplace = True)\n    X_valid = train[train[\"day\"] == 9].loc[train[\"hour\"] >= 4]\n    Y_valid = X_valid[\"is_attributed\"]\n    X_valid.drop([\"is_attributed\"], axis = 1, inplace = True)\n\n    print(\"Train set shape {}\".format(X_train.shape))\n    print(\"Valid set shape {}\".format(X_valid.shape))\n    del train; gc.collect()",
      "execution_count": null,
      "outputs": []
    },
    {
      "metadata": {
        "_cell_guid": "78777bfc-0414-4271-9714-2b69cc6b5334",
        "scrolled": true,
        "_uuid": "4da4de4a5a540f6ec54ad3fa0be61d9f1f32b241",
        "trusted": false,
        "collapsed": true
      },
      "cell_type": "code",
      "source": "most_freq_hours_in_test_data = [4, 5, 9, 10, 13, 14]\nleast_freq_hours_in_test_data = [6, 11, 15]\n\ndef add_count_feat(data, cols):\n    feat_name = \"_\".join(cols) + \"_count\"\n    arr_slice = data[cols].values\n    unq, unqtags, counts = np.unique(np.ravel_multi_index(arr_slice.T, arr_slice.max(0) + 1),\n                                     return_inverse=True, return_counts=True)\n    data[feat_name] = counts[unqtags]\n    del arr_slice, unq, unqtags, counts; gc.collect()\n    \n    dtype = \"uint32\"\n    max_value = data[feat_name].max()\n    if max_value <= 255:\n        dtype = \"uint8\"\n    elif max_value <= 65535:\n        dtype = \"uint16\"\n    data[feat_name] = data[feat_name].astype(dtype, copy = False)\n    return data\n    \ndef add_unique_feat(data, cols):\n    feat_name = \"_\".join(cols) + \"_unique\"\n    feat = data[cols].groupby(by = cols[:-1])[cols[-1]].nunique().reset_index().rename(columns = {cols[-1]: feat_name})\n    data = data.merge(feat, on = cols[:-1], how = \"left\", copy = False)\n    del feat; gc.collect()\n    \n    dtype = \"uint32\"\n    max_value = data[feat_name].max()\n    if max_value <= 255:\n        dtype = \"uint8\"\n    elif max_value <= 65535:\n        dtype = \"uint16\"\n    data[feat_name] = data[feat_name].astype(dtype, copy = False)\n    return data\n\ndef feature_eng(data):    \n    data[\"in_test_hour\"] = (3 - 2*data[\"hour\"].isin(most_freq_hours_in_test_data) \n                            - 1*data[\"hour\"].isin(least_freq_hours_in_test_data)).astype(\"uint8\")\n    \n    data = add_count_feat(data, [\"ip\", \"in_test_hour\"])\n    data = add_count_feat(data, [\"ip\", \"hour\"])    \n#     data = add_count_feat(data, [\"ip\", \"app\"])    \n    data = add_count_feat(data, [\"ip\", \"device\"])    \n    data = add_count_feat(data, [\"ip\", \"app\", \"os\"])\n#     data = add_count_feat(data, [\"ip\", \"app\", \"os\", \"hour\"])    \n    data = add_count_feat(data, [\"app\", \"channel\"])    \n#     data = add_count_feat(data, [\"ip\", \"channel\"])    \n    data = add_unique_feat(data, [\"ip\", \"channel\"])    \n    data = add_unique_feat(data, [\"ip\", \"app\"])    \n#     data = add_unique_feat(data, [\"app\", \"channel\"])    \n    data = add_unique_feat(data, [\"ip\", \"device\", \"os\", \"app\"])    \n    data.drop([\"day\", \"in_test_hour\"], axis = 1, inplace = True)\n    gc.collect()\n    \n    return data\n\nwith timer(\"Feature engineering\"):\n    X_train = feature_eng(X_train)\n    print(\"Train data completed!\")\n    X_valid = feature_eng(X_valid)\n    print(\"Valid data completed!\")",
      "execution_count": null,
      "outputs": []
    },
    {
      "metadata": {
        "_cell_guid": "94006b3e-970f-4c77-b294-54ca0cdedd96",
        "_uuid": "36596d0496c96ecd081241ff9342e5c32177a243",
        "trusted": false,
        "collapsed": true
      },
      "cell_type": "code",
      "source": "click_path = \"../input/fork-of-next-click-data-set-day-8/\"\n\nwith timer(\"Add clicks\"):\n    train_next_clicks = pd.read_csv(click_path + \"train_next_clicks.csv.gz\", low_memory = True, engine = \"c\",\n                                    dtype = {\"next_clicks\": \"uint32\"})\n    X_train[\"next_clicks\"] = train_next_clicks.values\n    del train_next_clicks; gc.collect()\n    \n    valid_next_clicks = pd.read_csv(click_path + \"valid_next_clicks.csv.gz\", low_memory = True, engine = \"c\",\n                                    dtype = {\"next_clicks\": \"uint32\"})\n    X_valid[\"next_clicks\"] = valid_next_clicks.values\n    del valid_next_clicks; gc.collect()",
      "execution_count": null,
      "outputs": []
    },
    {
      "metadata": {
        "_cell_guid": "312de935-bda3-47d7-9d11-e95e502f6f0f",
        "_uuid": "9c608f0a7306354e8f1f9131a958c26d9afa9a1f",
        "trusted": false,
        "collapsed": true
      },
      "cell_type": "code",
      "source": "with timer(\"Add time delta\"):\n    time_path = \"../input/bidirectional-talkingdata-train-time-deltas/\"\n    time_delta = pd.DataFrame(pd.read_csv(time_path + \"train_time_delta.csv.gz\", low_memory = True, engine = \"c\"))\n    X_train[\"forward_time_delta\"] = time_delta[\"forward_time_delta\"].values.astype(\"uint32\")\n    del time_delta; gc.collect()\n\n    time_delta = pd.DataFrame(pd.read_csv(time_path + \"valid_time_delta.csv.gz\", low_memory = True, engine = \"c\"))\n    X_valid[\"forward_time_delta\"] = time_delta[\"forward_time_delta\"].values.astype(\"uint32\")\n    del time_delta; gc.collect()",
      "execution_count": null,
      "outputs": []
    },
    {
      "metadata": {
        "_cell_guid": "e0112f61-5437-4910-88ff-dc3c73069ca4",
        "scrolled": true,
        "_uuid": "b63ca9bb16650d4fbbd2703873e74fc2cdb9fd85",
        "trusted": false,
        "collapsed": true
      },
      "cell_type": "code",
      "source": "import lightgbm as lgbm\n\npredictors = [\"app\", \"device\", \"os\", \"channel\", \"hour\",\n              \"ip_in_test_hour_count\", \n              \"ip_hour_count\", \n#               \"ip_app_count\",\n              \"ip_device_count\",\n              \"ip_app_os_count\",\n#               \"ip_app_os_hour_count\", \n              \"app_channel_count\",\n#               \"ip_channel_count\",\n              \"ip_channel_unique\",\n              \"ip_app_unique\",\n              \"ip_device_os_app_unique\",\n#               \"app_channel_unique\",\n              \"next_clicks\",\n#               \"forward_time_delta\"\n#               \"app_mean_target\", \"os_mean_target\", \"device_mean_target\", \"channel_mean_target\"\n             ]\ncategorical = [\"app\", \"device\", \"os\", \"channel\", \"hour\"]\n\nparams = {\"boosting_type\": \"gbdt\",\n          \"objective\": \"binary\",\n          \"metric\": \"auc\",\n          \"learning_rate\": 0.1,\n          \"num_leaves\": 26,\n          \"max_depth\": 4, \n          \"min_child_samples\": 20,\n          \"max_bin\": 100,\n#           \"feature_fraction\": 1,\n          \"bagging_fraction\": 0.9,\n          \"bagging_freq\": 5, \n#           \"subsample\": 0.8,\n#           \"subsample_freq\": 1,\n          \"colsample_bytree\": 0.9,\n          \"min_child_weight\": 0,\n          \"min_split_gain\": 0,\n#           \"reg_alpha\": 0,\n#           \"reg_lambda\": 0,\n          \"nthread\": 8,\n          \"verbose\": 0,\n          \"scale_pos_weight\": 200}\n\nmax_rounds = 1000\nevals_results = {}\n\nwith timer(\"Train\"):\n    X_train = X_train[predictors].values.astype(np.float32)\n    X_valid = X_valid[predictors].values.astype(np.float32)\n    dtrain = lgbm.Dataset(X_train, label = Y_train,\n                          feature_name = predictors, categorical_feature = categorical)\n    del X_train, Y_train; gc.collect()\n    dvalid = lgbm.Dataset(X_valid, label = Y_valid,\n                          feature_name = predictors, categorical_feature = categorical)\n    del X_valid, Y_valid; gc.collect()\n    \n    print(\"Start building lgbm model [{}]\".format(time.time() - start_time))\n    model = lgbm.train(params, dtrain, valid_sets = [dtrain, dvalid], valid_names = [\"train\", \"valid\"],\n                       evals_result = evals_results, num_boost_round = max_rounds, early_stopping_rounds = 30, \n                       verbose_eval = 10, feval = None)\n    del dtrain, dvalid; gc.collect()\n    \n    n_estimator = model.best_iteration\n    print(\"\\nModel Report\")\n    print(\"n_estimators is {}\".format(n_estimator))\n    print(\"cv auc is {}\".format(evals_results[\"valid\"][\"auc\"][n_estimator-1]))\n    print(\"Training [{}] completed!\".format(time.time() - start_time))",
      "execution_count": null,
      "outputs": []
    },
    {
      "metadata": {
        "_cell_guid": "1f96311e-969c-4f6c-a11e-815d3037ab97",
        "_uuid": "eed8f6a0ee139f9c51952696319906c932ef5ce1",
        "trusted": false,
        "collapsed": true
      },
      "cell_type": "code",
      "source": "with timer(\"Predict\"):\n    X_test = pd.read_csv(path + \"test_supplement.csv\", low_memory = True, engine = \"c\", dtype = dtypes,\n                         usecols = [\"ip\", \"app\", \"device\", \"os\", \"channel\", \"click_time\", \"click_id\"])\n    X_test = process_time(X_test)\n    X_test = X_test[X_test[\"day\"] == 10]\n    print(\"Test set shape {}\".format(X_test.shape))\n    \n    X_test = feature_eng(X_test)\n    print(\"Test data completed!\")\n\n    test_next_clicks = pd.read_csv(click_path + \"test_next_clicks.csv.gz\", low_memory = True, engine = \"c\",\n                               dtype = {\"next_clicks\": \"uint32\"})\n    X_test[\"next_clicks\"] = test_next_clicks.values\n    del test_next_clicks; gc.collect()\n\n#     time_path = \"../input/bidirectional-talkingdata-test-time-deltas/\"\n#     time_delta = pd.DataFrame(pd.read_csv(time_path + \"test_time_delta.csv.gz\", low_memory = True, engine = \"c\"))\n#     X_test[\"forward_time_delta\"] = time_delta[\"forward_time_delta\"].values.astype(\"uint32\")\n#     del time_delta; gc.collect()\n    \n    X_test[\"is_attributed\"] = model.predict(X_test[predictors].values, num_iteration = n_estimator)\n    \nprint(\"Train and predict [{}] completed!\".format((time.time() - start_time)/3600))",
      "execution_count": null,
      "outputs": []
    },
    {
      "metadata": {
        "_cell_guid": "16fe9a05-53cc-498c-b1a9-097023f8dbe5",
        "_uuid": "2ddfc722271f524401a3f6a367b3e0254dfd11be",
        "trusted": false,
        "collapsed": true
      },
      "cell_type": "code",
      "source": "join_cols = [\"ip\", \"app\", \"device\", \"os\", \"channel\", \"click_time\"]\nall_cols = join_cols + [\"is_attributed\"]\ntest = pd.read_csv(path + \"test.csv\", low_memory = True, engine = \"c\", dtype = dtypes,\n                   usecols = [\"ip\", \"app\", \"device\", \"os\", \"channel\", \"click_time\", \"click_id\"])\ntest = test.merge(X_test[all_cols], how = \"left\", on = join_cols)\ndel X_test; gc.collect()\n\ntest = test.drop_duplicates(subset = [\"click_id\"])\nprint(\"Writing the submission data into a csv file...\")\ntest[[\"click_id\", \"is_attributed\"]].to_csv(\"submission.csv\", index = False)\nprint(\"Completed writing lgbm submission file [{}]\".format(time.time() - start_time))",
      "execution_count": null,
      "outputs": []
    },
    {
      "metadata": {
        "_cell_guid": "92b44d3c-37f7-4202-b10d-b7d693133586",
        "_uuid": "4b7905d9d876866126a38fb0fe0eb4869b2a7aa2",
        "trusted": false,
        "collapsed": true
      },
      "cell_type": "code",
      "source": "test.head()",
      "execution_count": null,
      "outputs": []
    },
    {
      "metadata": {
        "_cell_guid": "1ecb86dc-5674-45de-ae20-559d02768f45",
        "_uuid": "f40c0d2c753018218d7ab6a34a39d801a9b55f63",
        "trusted": false,
        "collapsed": true
      },
      "cell_type": "code",
      "source": "import matplotlib.pyplot as plt\nimport seaborn as sns\nplt.figure(figsize = (8, 8))\nsns.barplot(model.feature_importance(), model.feature_name())\nplt.show()",
      "execution_count": null,
      "outputs": []
    },
    {
      "metadata": {
        "collapsed": true,
        "_cell_guid": "e0c57703-596c-40c8-99f9-8a7986cf9afd",
        "_uuid": "93017727670dbd266dfda23edbbeab7e8263c3f3",
        "trusted": false
      },
      "cell_type": "code",
      "source": "",
      "execution_count": null,
      "outputs": []
    }
  ],
  "metadata": {
    "kernelspec": {
      "display_name": "Python 3",
      "language": "python",
      "name": "python3"
    },
    "language_info": {
      "name": "python",
      "version": "3.6.5",
      "mimetype": "text/x-python",
      "codemirror_mode": {
        "name": "ipython",
        "version": 3
      },
      "pygments_lexer": "ipython3",
      "nbconvert_exporter": "python",
      "file_extension": ".py"
    }
  },
  "nbformat": 4,
  "nbformat_minor": 1
}