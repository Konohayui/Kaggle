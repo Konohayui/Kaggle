{
  "cells": [
    {
      "metadata": {
        "_uuid": "8f2839f25d086af736a60e9eeb907d3b93b6e0e5",
        "_cell_guid": "b1076dfc-b9ad-4769-8c92-a6c4dae69d19",
        "scrolled": true,
        "collapsed": true,
        "trusted": false
      },
      "cell_type": "code",
      "source": "import time, numpy as np, pandas as pd, gc\nfrom scipy.sparse import csr_matrix, hstack\n\nstart_time = time.time()\nnp.random.seed(32)\nfrom sklearn.model_selection import train_test_split\n\ndtypes = {\"ip\": \"uint32\",\n         \"app\": \"uint16\",\n         \"device\": \"uint16\",\n         \"os\": \"uint16\",\n         \"channel\": \"uint16\",\n         \"is_attributed\": \"uint8\",\n         \"click_id\": \"uint32\"}\n\ntrain = pd.read_csv(\"../input/train.csv\", engine = \"c\", \n                    skiprows= range(1, 68000000), dtype = dtypes,\n                    usecols = [\"ip\", \"app\", \"device\", \"os\", \"channel\", \"click_time\", \"is_attributed\"])\n\nprint(\"Load train data [{}] completed!\".format(time.time() - start_time))",
      "execution_count": null,
      "outputs": []
    },
    {
      "metadata": {
        "_uuid": "5cb027bbc0cf7fff5bb3f4f1e2309417c9eedd79",
        "collapsed": true,
        "_cell_guid": "61739079-238a-4fe2-83ca-d246e0cd07e3",
        "trusted": false
      },
      "cell_type": "code",
      "source": "def process_time(data):\n    data[\"click_time\"] = pd.to_datetime(data[\"click_time\"])\n    dt = data[\"click_time\"].dt\n    data[\"day\"] = dt.day.astype(\"uint8\")\n    data[\"hour\"] = dt.hour.astype(\"uint8\")\n#     data.drop([\"click_time\"], axis = 1, inplace = True)\n    del dt; gc.collect()\n    return data\n\ntrain = process_time(train)\nX_train = train[train[\"day\"] == 8].loc[train[\"hour\"] >= 4]\nX_valid = train[train[\"day\"] == 9].loc[train[\"hour\"] >= 4]\ndel train; gc.collect()\n\nprint(\"Train set shape {}\".format(X_train.shape))\nprint(\"Valid set shape {}\".format(X_valid.shape))\nprint(\"Split train set [{}] completed!\".format(time.time() - start_time))",
      "execution_count": null,
      "outputs": []
    },
    {
      "metadata": {
        "_uuid": "d629ff2d2480ee46fbb7e2d37f6b5fab8052498a",
        "collapsed": true,
        "_cell_guid": "79c7e3d0-c299-4dcb-8224-4455121ee9b0",
        "trusted": false
      },
      "cell_type": "code",
      "source": "def cal_next_click(data):\n    D = 2**26\n    data[\"category\"] = (data[\"ip\"].astype(str) + \"_\" + data[\"app\"].astype(str) \n                        + \"_\" + data[\"device\"].astype(str) \n                        + \"_\" + data[\"os\"].astype(str)).apply(hash) % D\n    data.drop([\"ip\", \"app\", \"device\", \"os\", \"channel\"], axis = 1, inplace = True); gc.collect()\n    click_buffer = np.full(D, 3000000000, dtype=np.uint32)\n    data[\"epochtime\"]= data[\"click_time\"].astype(np.int64) // 10 ** 9\n    next_clicks = []\n    for category, time in zip(reversed(data[\"category\"].values), reversed(data[\"epochtime\"].values)):\n        next_clicks.append(click_buffer[category]-time)\n        click_buffer[category]= time\n    data[\"next_clicks\"] = list(reversed(next_clicks))\n    return data\n\n# def add_prev_click(data, hours):\n#     prev_clicks = []\n#     for h in hours:\n#         sub_data = data[data[\"hour\"] == h]\n#         nc = cal_prev_click(sub_data)\n#         prev_clicks.append(nc)\n#     prev_clicks = np.concatenate(prev_clicks, axis = 0)\n#     data[\"prev_clicks\"] = list(prev_clicks)\n#     return data\n\nX_train = cal_next_click(X_train)\nprint(\"Train data completed!\")\nX_valid = cal_next_click(X_valid)\nprint(\"Valid data completed!\")\nprint(\"Add next click [{}] completed!\".format(time.time() - start_time))",
      "execution_count": null,
      "outputs": []
    },
    {
      "metadata": {
        "_uuid": "d10c37ba3011f65cfe9d12617eadcb4af06b2ae2",
        "collapsed": true,
        "_cell_guid": "b3c08aca-5855-4d28-b473-9cee61814344",
        "trusted": false
      },
      "cell_type": "code",
      "source": "X_train = X_train.reindex(columns = [\"next_clicks\"])\nX_valid = X_valid.reindex(columns = [\"next_clicks\"])\nX_train.to_csv(\"train_next_clicks.csv.gz\", index = False, compression = \"gzip\")\nX_valid.to_csv(\"valid_next_clicks.csv.gz\", index = False, compression = \"gzip\")",
      "execution_count": null,
      "outputs": []
    },
    {
      "metadata": {
        "_uuid": "81659084033cc4d3cd7c22b406f1c6e8e2e1c5b1",
        "collapsed": true,
        "_cell_guid": "5faaeafa-7862-40df-a144-916985d1fe58",
        "trusted": false
      },
      "cell_type": "code",
      "source": "test = pd.read_csv(\"../input/test_supplement.csv\", low_memory = True, engine = \"c\", dtype = dtypes,\n                   usecols = [\"ip\", \"app\", \"device\", \"os\", \"channel\", \"click_time\", \"click_id\"])\nX_test = process_time(test)\ndel test; gc.collect()\n\nX_test = cal_next_click(X_test)\nprint(\"Test data completed!\")\nX_test = X_test.reindex(columns = [\"next_clicks\"])\nX_test.to_csv(\"test_next_clicks.csv.gz\", index = False, compression = \"gzip\")",
      "execution_count": null,
      "outputs": []
    },
    {
      "metadata": {
        "_uuid": "f7e415ecea26c943c21b429468056be7b26ab608",
        "collapsed": true,
        "_cell_guid": "f32cbd46-59f4-4671-a904-eb2d63d5f786",
        "trusted": false
      },
      "cell_type": "code",
      "source": "",
      "execution_count": null,
      "outputs": []
    }
  ],
  "metadata": {
    "kernelspec": {
      "display_name": "Python 3",
      "language": "python",
      "name": "python3"
    },
    "language_info": {
      "nbconvert_exporter": "python",
      "name": "python",
      "version": "3.6.5",
      "file_extension": ".py",
      "codemirror_mode": {
        "name": "ipython",
        "version": 3
      },
      "pygments_lexer": "ipython3",
      "mimetype": "text/x-python"
    }
  },
  "nbformat": 4,
  "nbformat_minor": 1
}