{
  "cells": [
    {
      "metadata": {
        "_uuid": "7a98f4028887c581e4727924e277e2f795031d97",
        "_cell_guid": "9c667b05-70a7-4211-a268-1d9c2a5fe5c6",
        "collapsed": true,
        "trusted": true
      },
      "cell_type": "code",
      "source": "import time\nstart_time = time.time()\n\nimport pandas as pd\nimport numpy as np\nnp.random.seed(32)\nimport matplotlib.pyplot as plt\nimport matplotlib.image as mpimg\nimport seaborn as sns",
      "execution_count": 1,
      "outputs": []
    },
    {
      "metadata": {
        "_uuid": "4ca9c812e7e1c372889e7b6ec9914c2875486f61",
        "_cell_guid": "06bf0e4f-87dc-40b0-8c04-4d9281ae8bb6",
        "collapsed": true,
        "trusted": true
      },
      "cell_type": "code",
      "source": "train = pd.read_csv(\"../input/train.csv\")\ntest = pd.read_csv(\"../input/test.csv\")\nnrow_test = test.shape[0]",
      "execution_count": 2,
      "outputs": []
    },
    {
      "metadata": {
        "_uuid": "4f6b4c7f5054cf0f37287b27e66868516ab05f06",
        "_cell_guid": "653c5215-1008-4c6b-a989-bcc2780fc2c4",
        "trusted": true
      },
      "cell_type": "code",
      "source": "X_train = train.drop(labels = [\"label\"], axis = 1)\nY_train = train[\"label\"]\nprint(Y_train.value_counts())\nsns.countplot(Y_train)",
      "execution_count": 3,
      "outputs": [
        {
          "output_type": "stream",
          "text": "1    4684\n7    4401\n3    4351\n9    4188\n2    4177\n6    4137\n0    4132\n4    4072\n8    4063\n5    3795\nName: label, dtype: int64\n",
          "name": "stdout"
        },
        {
          "output_type": "execute_result",
          "execution_count": 3,
          "data": {
            "text/plain": "<matplotlib.axes._subplots.AxesSubplot at 0x7f5a5cdfa3c8>"
          },
          "metadata": {}
        },
        {
          "output_type": "display_data",
          "data": {
            "text/plain": "<matplotlib.figure.Figure at 0x7f5ae0f73320>",
            "image/png": "[encoded data removed]"
          },
          "metadata": {}
        }
      ]
    },
    {
      "metadata": {
        "_uuid": "528900d84a3db33b8a3afa344e8e09fcf7cd0578",
        "_cell_guid": "c46ab9ad-fb54-4ecf-80b0-9e9bc91fe9e6",
        "collapsed": true,
        "trusted": true
      },
      "cell_type": "code",
      "source": "from sklearn.model_selection import train_test_split\n\nX_train, X_valid, Y_train, Y_valid = train_test_split(X_train, Y_train, test_size = 0.3, random_state = 32)",
      "execution_count": 4,
      "outputs": []
    },
    {
      "metadata": {
        "_uuid": "0f42bb158ea1d87dbfbb2c176ef824a8cb9c1860",
        "_cell_guid": "32f4059e-810e-47de-b8b0-b5f6d858d771",
        "trusted": true
      },
      "cell_type": "code",
      "source": "from keras.utils.np_utils import to_categorical\n\nX_train = X_train.values.reshape(-1, 28, 28, 1).astype(\"float32\")/250\nX_valid = X_valid.values.reshape(-1, 28, 28, 1).astype(\"float32\")/250\nY_train = to_categorical(Y_train, num_classes = 10)\nY_valid = to_categorical(Y_valid, num_classes = 10)",
      "execution_count": 5,
      "outputs": [
        {
          "output_type": "stream",
          "text": "Using TensorFlow backend.\n",
          "name": "stderr"
        }
      ]
    },
    {
      "metadata": {
        "_uuid": "7ba6b4f8ef5532dbbafd670deff8735fff074ca1",
        "_cell_guid": "1005330c-09fa-4721-9601-562a7bd8caa5",
        "trusted": true
      },
      "cell_type": "code",
      "source": "plt.imshow(X_train[0][:,:,0], cmap = plt.get_cmap(\"gray\"))",
      "execution_count": 6,
      "outputs": [
        {
          "output_type": "execute_result",
          "execution_count": 6,
          "data": {
            "text/plain": "<matplotlib.image.AxesImage at 0x7f5a3fd99320>"
          },
          "metadata": {}
        },
        {
          "output_type": "display_data",
          "data": {
            "text/plain": "<matplotlib.figure.Figure at 0x7f5a3fd9ce10>",
            "image/png": "[encoded data removed]"
          },
          "metadata": {}
        }
      ]
    },
    {
      "metadata": {
        "_uuid": "59fa7ec974f6812461707f516ea6a7e9fd267f55",
        "_cell_guid": "e2b894cc-4e92-40b6-bddf-fd3357bf9408",
        "trusted": true
      },
      "cell_type": "code",
      "source": "from keras.layers import Input, Dense, Dropout, Flatten, Conv2D, MaxPool2D\nfrom keras.optimizers import Adam, RMSprop\nfrom keras.models import Model, load_model\n\ndef build_model():\n    inp = Input(shape = [28, 28, 1])\n    cnn_layer1 = Conv2D(filters = 32, kernel_size = (3, 3), padding = \"same\", activation = \"relu\")(inp)\n    cnn_layer1 = Conv2D(filters = 32, kernel_size = (3, 3), padding = \"same\", activation = \"relu\")(cnn_layer1)\n    cnn_layer1 = MaxPool2D(pool_size = (2, 2))(cnn_layer1)\n    \n    cnn_layer2 = Conv2D(filters = 64, kernel_size = (3, 3), padding = \"same\", activation = \"relu\")(cnn_layer1)\n    cnn_layer2 = Conv2D(filters = 64, kernel_size = (3, 3), padding = \"same\", activation = \"relu\")(cnn_layer2)\n    cnn_layer2 = MaxPool2D(pool_size = (2, 2))(cnn_layer2)\n    \n    out_put = Flatten()(cnn_layer2)\n    out_put = Dense(256, activation = \"relu\")(out_put)\n    out_put = Dense(10, activation = \"softmax\")(out_put)\n    model = Model(inputs = inp, outputs = out_put)\n    model.compile(loss = \"categorical_crossentropy\", optimizer = Adam(lr = 1e-3, decay = 0), metrics=[\"accuracy\"])\n    return model\n\nmodel = build_model()\nmodel.summary()",
      "execution_count": 7,
      "outputs": [
        {
          "output_type": "stream",
          "text": "_________________________________________________________________\nLayer (type)                 Output Shape              Param #   \n=================================================================\ninput_1 (InputLayer)         (None, 28, 28, 1)         0         \n_________________________________________________________________\nconv2d_1 (Conv2D)            (None, 28, 28, 32)        320       \n_________________________________________________________________\nconv2d_2 (Conv2D)            (None, 28, 28, 32)        9248      \n_________________________________________________________________\nmax_pooling2d_1 (MaxPooling2 (None, 14, 14, 32)        0         \n_________________________________________________________________\nconv2d_3 (Conv2D)            (None, 14, 14, 64)        18496     \n_________________________________________________________________\nconv2d_4 (Conv2D)            (None, 14, 14, 64)        36928     \n_________________________________________________________________\nmax_pooling2d_2 (MaxPooling2 (None, 7, 7, 64)          0         \n_________________________________________________________________\nflatten_1 (Flatten)          (None, 3136)              0         \n_________________________________________________________________\ndense_1 (Dense)              (None, 256)               803072    \n_________________________________________________________________\ndense_2 (Dense)              (None, 10)                2570      \n=================================================================\nTotal params: 870,634\nTrainable params: 870,634\nNon-trainable params: 0\n_________________________________________________________________\n",
          "name": "stdout"
        }
      ]
    },
    {
      "metadata": {
        "_uuid": "078a6ea0f7128729be685abcb9d00748560d1999",
        "_cell_guid": "47507a7b-e9d5-4d2c-beed-0bb87a91c52b",
        "collapsed": true,
        "trusted": true
      },
      "cell_type": "code",
      "source": "batch_size = 64\nepochs = 15\n# model.fit(X_train, Y_train, batch_size = batch_size, epochs = epochs, verbose = 1, \n#           validation_data = (X_valid, Y_valid))",
      "execution_count": 8,
      "outputs": []
    },
    {
      "metadata": {
        "scrolled": false,
        "_uuid": "8b7d55fd925cdeda057ec4eb59ed6923488b512c",
        "_cell_guid": "6c641710-c2b8-4ed8-80a6-ac4df204b1a8",
        "trusted": true
      },
      "cell_type": "code",
      "source": "from keras.preprocessing.image import ImageDataGenerator\nfrom keras.callbacks import EarlyStopping, ModelCheckpoint\n\nfile_path = \"best_model.h5\"\ncheck_point = ModelCheckpoint(file_path, monitor = \"val_acc\", verbose = 1,\n                              save_best_only = True, mode = \"max\")\nearly_stop = EarlyStopping(monitor = \"val_acc\", mode = \"max\", patience = 2)\ndatagen = ImageDataGenerator(featurewise_center = False,\n                             samplewise_center = False,\n                             featurewise_std_normalization = False,\n                             samplewise_std_normalization = False,\n                             zca_whitening = False,\n                             rotation_range = 10,\n                             zoom_range = 0.2,\n                             width_shift_range = 0.15,\n                             height_shift_range = 0.15,\n                             horizontal_flip = False,\n                             vertical_flip = False)\ndatagen.fit(X_train)\nmodel.fit_generator(datagen.flow(X_train, Y_train, batch_size = batch_size), epochs = epochs, \n                   validation_data = (X_valid, Y_valid), callbacks = [check_point, early_stop])",
      "execution_count": 9,
      "outputs": [
        {
          "output_type": "stream",
          "text": "Epoch 1/15\n460/460 [==============================] - 170s 370ms/step - loss: 0.4152 - acc: 0.8678 - val_loss: 0.0755 - val_acc: 0.9776\n\nEpoch 00001: val_acc improved from -inf to 0.97762, saving model to best_model.h5\nEpoch 2/15\n460/460 [==============================] - 168s 364ms/step - loss: 0.1251 - acc: 0.9619 - val_loss: 0.0548 - val_acc: 0.9829\n\nEpoch 00002: val_acc improved from 0.97762 to 0.98286, saving model to best_model.h5\nEpoch 3/15\n460/460 [==============================] - 169s 368ms/step - loss: 0.0903 - acc: 0.9716 - val_loss: 0.0484 - val_acc: 0.9856\n\nEpoch 00003: val_acc improved from 0.98286 to 0.98563, saving model to best_model.h5\nEpoch 4/15\n460/460 [==============================] - 172s 374ms/step - loss: 0.0736 - acc: 0.9776 - val_loss: 0.0330 - val_acc: 0.9898\n\nEpoch 00004: val_acc improved from 0.98563 to 0.98984, saving model to best_model.h5\nEpoch 5/15\n460/460 [==============================] - 171s 373ms/step - loss: 0.0647 - acc: 0.9795 - val_loss: 0.0419 - val_acc: 0.9867\n\nEpoch 00005: val_acc did not improve\nEpoch 6/15\n460/460 [==============================] - 170s 370ms/step - loss: 0.0599 - acc: 0.9811 - val_loss: 0.0324 - val_acc: 0.9902\n\nEpoch 00006: val_acc improved from 0.98984 to 0.99024, saving model to best_model.h5\nEpoch 7/15\n460/460 [==============================] - 169s 368ms/step - loss: 0.0529 - acc: 0.9831 - val_loss: 0.0302 - val_acc: 0.9913\n\nEpoch 00007: val_acc improved from 0.99024 to 0.99127, saving model to best_model.h5\nEpoch 8/15\n460/460 [==============================] - 168s 365ms/step - loss: 0.0473 - acc: 0.9846 - val_loss: 0.0322 - val_acc: 0.9906\n\nEpoch 00008: val_acc did not improve\nEpoch 9/15\n460/460 [==============================] - 170s 369ms/step - loss: 0.0486 - acc: 0.9851 - val_loss: 0.0359 - val_acc: 0.9875\n\nEpoch 00009: val_acc did not improve\n",
          "name": "stdout"
        },
        {
          "output_type": "execute_result",
          "execution_count": 9,
          "data": {
            "text/plain": "<keras.callbacks.History at 0x7f5a3fc44e10>"
          },
          "metadata": {}
        }
      ]
    },
    {
      "metadata": {
        "_uuid": "c06a4000bfcc2acfe133b7dbde0392222f39c126",
        "_cell_guid": "9d01a36c-ba2d-4807-a2fa-8ea0e33690f6",
        "trusted": true
      },
      "cell_type": "code",
      "source": "model = load_model(file_path)\nX_test = test.values.reshape(-1, 28, 28, 1).astype(\"float32\")/250\nprediction = model.predict(X_test, batch_size = 512, verbose = 1)\nprediction = pd.DataFrame(np.argmax(prediction, axis = 1))\nsubmission = pd.concat([pd.DataFrame(list(range(1, nrow_test+1))), prediction], axis = 1)\nsubmission.columns = [\"ImageId\", \"Label\"]\nsubmission.to_csv(\"submission.csv\", index = False)\nprint(\"Completed, [{}]\".format(time.time() - start_time))",
      "execution_count": 10,
      "outputs": [
        {
          "output_type": "stream",
          "text": "28000/28000 [==============================] - 41s 1ms/step\nCompleted, [1578.2458939552307]\n",
          "name": "stdout"
        }
      ]
    },
    {
      "metadata": {
        "_uuid": "22974d95fb97a1dc0e8d3a038a479fbc4cf7f9e4",
        "_cell_guid": "e742adc0-28b1-4704-b9d6-97c702bf1cdc",
        "trusted": true
      },
      "cell_type": "code",
      "source": "prediction.head()",
      "execution_count": 11,
      "outputs": [
        {
          "output_type": "execute_result",
          "execution_count": 11,
          "data": {
            "text/plain": "   0\n0  2\n1  0\n2  9\n3  0\n4  3",
            "text/html": "<div>\n<style>\n    .dataframe thead tr:only-child th {\n        text-align: right;\n    }\n\n    .dataframe thead th {\n        text-align: left;\n    }\n\n    .dataframe tbody tr th {\n        vertical-align: top;\n    }\n</style>\n<table border=\"1\" class=\"dataframe\">\n  <thead>\n    <tr style=\"text-align: right;\">\n      <th></th>\n      <th>0</th>\n    </tr>\n  </thead>\n  <tbody>\n    <tr>\n      <th>0</th>\n      <td>2</td>\n    </tr>\n    <tr>\n      <th>1</th>\n      <td>0</td>\n    </tr>\n    <tr>\n      <th>2</th>\n      <td>9</td>\n    </tr>\n    <tr>\n      <th>3</th>\n      <td>0</td>\n    </tr>\n    <tr>\n      <th>4</th>\n      <td>3</td>\n    </tr>\n  </tbody>\n</table>\n</div>"
          },
          "metadata": {}
        }
      ]
    }
  ],
  "metadata": {
    "language_info": {
      "name": "python",
      "version": "3.6.4",
      "mimetype": "text/x-python",
      "codemirror_mode": {
        "name": "ipython",
        "version": 3
      },
      "pygments_lexer": "ipython3",
      "nbconvert_exporter": "python",
      "file_extension": ".py"
    },
    "kernelspec": {
      "display_name": "Python 3",
      "language": "python",
      "name": "python3"
    }
  },
  "nbformat": 4,
  "nbformat_minor": 1
}